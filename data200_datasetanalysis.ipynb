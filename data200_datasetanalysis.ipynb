{
 "cells": [
  {
   "cell_type": "code",
   "execution_count": 8,
   "id": "dc4f2644-d074-4f0b-b611-509ab9cb5b4e",
   "metadata": {},
   "outputs": [
    {
     "name": "stdout",
     "output_type": "stream",
     "text": [
      "   Age Sex      BP Cholesterol  Na_to_K   Drug\n",
      "0   23   F    HIGH        HIGH   25.355  drugY\n",
      "1   47   M     LOW        HIGH   13.093  drugC\n",
      "2   47   M     LOW        HIGH   10.114  drugC\n",
      "3   28   F  NORMAL        HIGH    7.798  drugX\n",
      "4   61   F     LOW        HIGH   18.043  drugY\n"
     ]
    }
   ],
   "source": []
  },
  {
   "cell_type": "markdown",
   "id": "896e0331-a344-4f69-87d2-51171ca78d0f",
   "metadata": {},
   "source": [
    "<h2 style=\"text-align: center;\">Machine Learning Project - T1508M/T1608M Project 2024</h2>\n",
    "\n",
    "<hr>\n",
    "\n",
    "<h3>Students:</h3>\n",
    "\n",
    "<ul>\n",
    "    <li>\n",
    "        <strong>Student #1:</strong><br>\n",
    "        Full Name: Amour Raphael<br>\n",
    "        Student Number/ID: [Enter ID Here]\n",
    "    </li>\n",
    "    <br>\n",
    "    <li>\n",
    "        <strong>Student #2:</strong><br>\n",
    "        Full Name: Vallee Eloise<br>\n",
    "        Student Number/ID: [Enter ID Here]\n",
    "    </li>\n",
    "    <br>\n",
    "    <li>\n",
    "        <strong>Student #3:</strong><br>\n",
    "        Full Name: Abouleila Selim<br>\n",
    "        Student Number/ID: 20220024\n",
    "    </li>\n",
    "</ul>"
   ]
  },
  {
   "cell_type": "markdown",
   "id": "940e0ad4-1688-40dc-9a76-7ef1e0c0da43",
   "metadata": {},
   "source": [
    "\n",
    "<h2 style=\"text-align: center;\">Step 2: Scenario/About Dataset</h2>\r\n",
    "\r\n",
    "<hr>\r\n",
    "\r\n",
    "<h3>Problem Statement</h3>\r\n",
    "<p>\r\n",
    "    Define the specific problem you are addressing with your dataset. This could involve identifying a gap in the market, a specific challenge faced by the client, or an opportunity for improvement. For example:\r\n",
    "</p>\r\n",
    "<p>\r\n",
    "    <strong>\"The client is facing challenges in predicting customer churn, which is impacting their revenue. The goal is to develop a predictive model that can identify customers at risk of leaving.\"</strong>\r\n",
    "</p>\r\n",
    "\r\n",
    "<h3>Dataset Overview</h3>\r\n",
    "<p>\r\n",
    "    Provide a brief description of the dataset you are using, including:\r\n",
    "</p>\r\n",
    "<ul>\r\n",
    "    <li><strong>Source:</strong> Collected from surveys, sensors, public datasets, etc.</li>\r\n",
    "    <li><strong>Features:</strong> Customer demographics, transaction history, product usage, etc.</li>\r\n",
    "    <li><strong>Size:</strong> Number of records and features in the dataset.</li>\r\n",
    "</ul>\r\n",
    "\r\n",
    "<h3>Type of Problem</h3>\r\n",
    "<p>\r\n",
    "    Identify whether the project tackles a problem of:\r\n",
    "</p>\r\n",
    "<ul>\r\n",
    "    <li><strong>Regression:</strong> Predicting continuous values (e.g., sales forecasting).</li>\r\n",
    "    <li><strong>Classification:</strong> Categorizing data into discrete classes (e.g., spam detection).</li>\r\n",
    "    <li><strong>Clustering:</strong> Grouping similar data points (e.g., customer segmentation).</li>\r\n",
    "</ul>"
   ]
  },
  {
   "cell_type": "code",
   "execution_count": 17,
   "id": "9e1888b8-c716-4c79-8a97-af8ae1b9a982",
   "metadata": {},
   "outputs": [
    {
     "name": "stdout",
     "output_type": "stream",
     "text": [
      "   Age Sex      BP Cholesterol  Na_to_K   Drug\n",
      "0   23   F    HIGH        HIGH   25.355  drugY\n",
      "1   47   M     LOW        HIGH   13.093  drugC\n",
      "2   47   M     LOW        HIGH   10.114  drugC\n",
      "3   28   F  NORMAL        HIGH    7.798  drugX\n",
      "4   61   F     LOW        HIGH   18.043  drugY\n"
     ]
    },
    {
     "data": {
      "text/plain": [
       "Age              int64\n",
       "Sex             object\n",
       "BP              object\n",
       "Cholesterol     object\n",
       "Na_to_K        float64\n",
       "Drug            object\n",
       "dtype: object"
      ]
     },
     "execution_count": 17,
     "metadata": {},
     "output_type": "execute_result"
    }
   ],
   "source": [
    "import pandas as pd\n",
    "\n",
    "# Provide the correct file path to load the data\n",
    "file_path = 'C:/Users/alpha/Documents/Projects_2024/S5/Machine Learning Project/Intro-to-Machine-Learning-Project/drug200.csv'\n",
    "data = pd.read_csv(file_path)\n",
    "\n",
    "# Display the first few rows to check if it loaded correctly\n",
    "print(data.head())\n",
    "\n",
    "data.dtypes\n"
   ]
  },
  {
   "cell_type": "code",
   "execution_count": null,
   "id": "d4ced4df-1ec7-4a51-b015-ce289688df1b",
   "metadata": {},
   "outputs": [],
   "source": []
  },
  {
   "cell_type": "code",
   "execution_count": null,
   "id": "f34166a5-85f3-4879-8e97-c68438d2b7a2",
   "metadata": {},
   "outputs": [],
   "source": []
  }
 ],
 "metadata": {
  "kernelspec": {
   "display_name": "Python 3 (ipykernel)",
   "language": "python",
   "name": "python3"
  },
  "language_info": {
   "codemirror_mode": {
    "name": "ipython",
    "version": 3
   },
   "file_extension": ".py",
   "mimetype": "text/x-python",
   "name": "python",
   "nbconvert_exporter": "python",
   "pygments_lexer": "ipython3",
   "version": "3.12.4"
  }
 },
 "nbformat": 4,
 "nbformat_minor": 5
}
